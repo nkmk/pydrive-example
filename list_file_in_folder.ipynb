{
 "cells": [
  {
   "cell_type": "code",
   "execution_count": 1,
   "metadata": {},
   "outputs": [],
   "source": [
    "import os"
   ]
  },
  {
   "cell_type": "code",
   "execution_count": 2,
   "metadata": {},
   "outputs": [],
   "source": [
    "from pydrive.auth import GoogleAuth\n",
    "from pydrive.drive import GoogleDrive\n",
    "\n",
    "gauth = GoogleAuth()\n",
    "gauth.LocalWebserverAuth()\n",
    "\n",
    "drive = GoogleDrive(gauth)"
   ]
  },
  {
   "cell_type": "code",
   "execution_count": 3,
   "metadata": {},
   "outputs": [],
   "source": [
    "folder_id = drive.ListFile({'q': \"title = 'dir1'\"}).GetList()[0]['id']"
   ]
  },
  {
   "cell_type": "code",
   "execution_count": 4,
   "metadata": {},
   "outputs": [],
   "source": [
    "file_list = drive.ListFile({'q': '\"{}\" in parents and trashed = false'.format(folder_id)}).GetList()"
   ]
  },
  {
   "cell_type": "code",
   "execution_count": 5,
   "metadata": {},
   "outputs": [
    {
     "name": "stdout",
     "output_type": "stream",
     "text": [
      "<class 'list'>\n"
     ]
    }
   ],
   "source": [
    "print(type(file_list))"
   ]
  },
  {
   "cell_type": "code",
   "execution_count": 6,
   "metadata": {},
   "outputs": [
    {
     "name": "stdout",
     "output_type": "stream",
     "text": [
      "<class 'pydrive.files.GoogleDriveFile'>\n"
     ]
    }
   ],
   "source": [
    "print(type(file_list[0]))"
   ]
  },
  {
   "cell_type": "code",
   "execution_count": 7,
   "metadata": {},
   "outputs": [
    {
     "name": "stdout",
     "output_type": "stream",
     "text": [
      "subdir1  \t 1CpPdnFTdN6DWPz7VBM1pV-RMZfcbvzck\n",
      "file12  \t 1iv9UB1pi65MqfFmqYwBoz3AfZbKr2jLx\n",
      "file11  \t 15sy12U3d845pXjLaEWww4VLO9Vs7C4J9\n"
     ]
    }
   ],
   "source": [
    "for f in file_list:\n",
    "    print(f['title'], ' \\t', f['id'])"
   ]
  },
  {
   "cell_type": "code",
   "execution_count": 8,
   "metadata": {},
   "outputs": [],
   "source": [
    "def get_list_recursively(parent_id, l=None):\n",
    "    if not l:\n",
    "        l = []\n",
    "\n",
    "    file_list = drive.ListFile({'q': '\"{}\" in parents and trashed = false'.format(parent_id)}).GetList()\n",
    "    l += file_list\n",
    "\n",
    "    for f in file_list:\n",
    "        if f['mimeType'] == 'application/vnd.google-apps.folder':\n",
    "            get_list_recursively(f['id'], l)\n",
    "\n",
    "    return l"
   ]
  },
  {
   "cell_type": "code",
   "execution_count": 9,
   "metadata": {},
   "outputs": [
    {
     "name": "stdout",
     "output_type": "stream",
     "text": [
      "subdir1  \t 1CpPdnFTdN6DWPz7VBM1pV-RMZfcbvzck\n",
      "file12  \t 1iv9UB1pi65MqfFmqYwBoz3AfZbKr2jLx\n",
      "file11  \t 15sy12U3d845pXjLaEWww4VLO9Vs7C4J9\n",
      "file111  \t 1bfc7jlDobxuoyZeF8CDyXlN66zl84Ech\n"
     ]
    }
   ],
   "source": [
    "for f in get_list_recursively(folder_id):\n",
    "    print(f['title'], ' \\t', f['id'])"
   ]
  },
  {
   "cell_type": "code",
   "execution_count": 10,
   "metadata": {},
   "outputs": [],
   "source": [
    "def get_list_file_recursively(parent_id, l=None):\n",
    "    if not l:\n",
    "        l = []\n",
    "\n",
    "    file_list = drive.ListFile({'q': '\"{}\" in parents and trashed = false'.format(parent_id)}).GetList()\n",
    "    l += [f for f in file_list if f['mimeType'] != 'application/vnd.google-apps.folder']\n",
    "\n",
    "    for f in file_list:\n",
    "        if f['mimeType'] == 'application/vnd.google-apps.folder':\n",
    "            get_list_file_recursively(f['id'], l)\n",
    "\n",
    "    return l"
   ]
  },
  {
   "cell_type": "code",
   "execution_count": 11,
   "metadata": {},
   "outputs": [
    {
     "name": "stdout",
     "output_type": "stream",
     "text": [
      "file12    \t 1iv9UB1pi65MqfFmqYwBoz3AfZbKr2jLx\n",
      "file11    \t 15sy12U3d845pXjLaEWww4VLO9Vs7C4J9\n",
      "file111    \t 1bfc7jlDobxuoyZeF8CDyXlN66zl84Ech\n"
     ]
    }
   ],
   "source": [
    "for f in get_list_file_recursively(folder_id):\n",
    "    print(f['title'], '   \\t', f['id'])"
   ]
  },
  {
   "cell_type": "code",
   "execution_count": 12,
   "metadata": {},
   "outputs": [],
   "source": [
    "for f in get_list_file_recursively(folder_id):\n",
    "    f.GetContentFile(os.path.join('dst', f['title']))"
   ]
  },
  {
   "cell_type": "code",
   "execution_count": 13,
   "metadata": {},
   "outputs": [],
   "source": [
    "def download_file_recursively(parent_id, dst_dir):\n",
    "    os.makedirs(dst_dir, exist_ok=True)\n",
    "\n",
    "    file_list = drive.ListFile({'q': '\"{}\" in parents and trashed = false'.format(parent_id)}).GetList()\n",
    "\n",
    "    for f in file_list:\n",
    "        if f['mimeType'] == 'application/vnd.google-apps.folder':\n",
    "            download_file_recursively(f['id'], os.path.join(dst_dir, f['title']))\n",
    "        else:\n",
    "            dst_path = os.path.join(dst_dir, f['title'])\n",
    "            f.GetContentFile(dst_path)\n",
    "            print('Download {} to {}'.format(f['title'], dst_path))"
   ]
  },
  {
   "cell_type": "code",
   "execution_count": 14,
   "metadata": {},
   "outputs": [
    {
     "name": "stdout",
     "output_type": "stream",
     "text": [
      "Download file21 to dst/root/dir2/file21\n",
      "Download file111 to dst/root/dir1/subdir1/file111\n",
      "Download file12 to dst/root/dir1/file12\n",
      "Download file11 to dst/root/dir1/file11\n",
      "Download file2 to dst/root/file2\n",
      "Download file1 to dst/root/file1\n"
     ]
    }
   ],
   "source": [
    "download_file_recursively('root', 'dst/root')"
   ]
  }
 ],
 "metadata": {
  "kernelspec": {
   "display_name": "Python 3",
   "language": "python",
   "name": "python3"
  },
  "language_info": {
   "codemirror_mode": {
    "name": "ipython",
    "version": 3
   },
   "file_extension": ".py",
   "mimetype": "text/x-python",
   "name": "python",
   "nbconvert_exporter": "python",
   "pygments_lexer": "ipython3",
   "version": "3.7.3"
  }
 },
 "nbformat": 4,
 "nbformat_minor": 2
}
