{
 "cells": [
  {
   "cell_type": "code",
   "execution_count": 1,
   "metadata": {},
   "outputs": [],
   "source": [
    "import os\n",
    "import pprint"
   ]
  },
  {
   "cell_type": "code",
   "execution_count": 2,
   "metadata": {},
   "outputs": [],
   "source": [
    "from pydrive.auth import GoogleAuth\n",
    "from pydrive.drive import GoogleDrive\n",
    "\n",
    "gauth = GoogleAuth()\n",
    "gauth.LocalWebserverAuth()\n",
    "\n",
    "drive = GoogleDrive(gauth)"
   ]
  },
  {
   "cell_type": "code",
   "execution_count": 3,
   "metadata": {},
   "outputs": [
    {
     "name": "stdout",
     "output_type": "stream",
     "text": [
      "<class 'pydrive.drive.GoogleDrive'>\n"
     ]
    }
   ],
   "source": [
    "print(type(drive))"
   ]
  },
  {
   "cell_type": "code",
   "execution_count": 4,
   "metadata": {},
   "outputs": [
    {
     "name": "stdout",
     "output_type": "stream",
     "text": [
      "<class 'pydrive.files.GoogleDriveFile'>\n"
     ]
    }
   ],
   "source": [
    "f = drive.CreateFile()\n",
    "print(type(f))"
   ]
  },
  {
   "cell_type": "code",
   "execution_count": 5,
   "metadata": {},
   "outputs": [
    {
     "name": "stdout",
     "output_type": "stream",
     "text": [
      "GoogleDriveFile({})\n"
     ]
    }
   ],
   "source": [
    "print(f)"
   ]
  },
  {
   "cell_type": "code",
   "execution_count": 6,
   "metadata": {},
   "outputs": [
    {
     "name": "stdout",
     "output_type": "stream",
     "text": [
      "GoogleDriveFile({'title': 'src/lena.jpg', 'mimeType': 'image/jpeg'})\n"
     ]
    }
   ],
   "source": [
    "f.SetContentFile('src/lena.jpg')\n",
    "print(f)"
   ]
  },
  {
   "cell_type": "code",
   "execution_count": 7,
   "metadata": {},
   "outputs": [
    {
     "name": "stdout",
     "output_type": "stream",
     "text": [
      "GoogleDriveFile({'title': 'lena.jpg', 'mimeType': 'image/jpeg'})\n"
     ]
    }
   ],
   "source": [
    "f['title'] = os.path.basename('src/lena.jpg')\n",
    "print(f)"
   ]
  },
  {
   "cell_type": "code",
   "execution_count": 8,
   "metadata": {},
   "outputs": [],
   "source": [
    "f.Upload()"
   ]
  },
  {
   "cell_type": "code",
   "execution_count": 9,
   "metadata": {},
   "outputs": [
    {
     "name": "stdout",
     "output_type": "stream",
     "text": [
      "{'alternateLink': 'https://drive.google.com/file/d/1urYj2HbvV6kNfYsT8A-2PsmEjdiR2nZS/view?usp=drivesdk',\n",
      " 'appDataContents': False,\n",
      " 'capabilities': {'canCopy': True, 'canEdit': True},\n",
      " 'copyRequiresWriterPermission': False,\n",
      " 'copyable': True,\n",
      " 'createdDate': '2019-07-16T13:42:18.959Z',\n",
      " 'downloadUrl': 'https://doc-14-2c-docs.googleusercontent.com/docs/securesc/dau8ajrf53dp30a065bvma64rthbbkv8/a79cnfgqkdr0hhjgseunhbajkeurcjgk/1563278400000/15529215658844670952/15529215658844670952/1urYj2HbvV6kNfYsT8A-2PsmEjdiR2nZS?e=download&gd=true',\n",
      " 'editable': True,\n",
      " 'embedLink': 'https://drive.google.com/file/d/1urYj2HbvV6kNfYsT8A-2PsmEjdiR2nZS/preview?usp=drivesdk',\n",
      " 'etag': '\"_sqIxUq0fTLFIA17mBQDotbHWsg/MTU2MzI4NDUzODk1OQ\"',\n",
      " 'explicitlyTrashed': False,\n",
      " 'fileExtension': 'jpg',\n",
      " 'fileSize': '32468',\n",
      " 'headRevisionId': '0BweKIFCqYN07TDJNRXhEUll4cDJ2S3MySGJtTG1sc0pvSFkwPQ',\n",
      " 'iconLink': 'https://drive-thirdparty.googleusercontent.com/16/type/image/jpeg',\n",
      " 'id': '1urYj2HbvV6kNfYsT8A-2PsmEjdiR2nZS',\n",
      " 'imageMediaMetadata': {'height': 225, 'rotation': 0, 'width': 400},\n",
      " 'kind': 'drive#file',\n",
      " 'labels': {'hidden': False,\n",
      "            'restricted': False,\n",
      "            'starred': False,\n",
      "            'trashed': False,\n",
      "            'viewed': True},\n",
      " 'lastModifyingUser': {'displayName': 'nkmk on',\n",
      "                       'emailAddress': 'nkmk.on@gmail.com',\n",
      "                       'isAuthenticatedUser': True,\n",
      "                       'kind': 'drive#user',\n",
      "                       'permissionId': '15529215658844670952'},\n",
      " 'lastModifyingUserName': 'nkmk on',\n",
      " 'lastViewedByMeDate': '2019-07-16T13:42:18.959Z',\n",
      " 'markedViewedByMeDate': '1970-01-01T00:00:00.000Z',\n",
      " 'md5Checksum': '18f790b9a2e45f9d7e37174df7714249',\n",
      " 'mimeType': 'image/jpeg',\n",
      " 'modifiedByMeDate': '2019-07-16T13:42:18.959Z',\n",
      " 'modifiedDate': '2019-07-16T13:42:18.959Z',\n",
      " 'originalFilename': 'lena.jpg',\n",
      " 'ownerNames': ['nkmk on'],\n",
      " 'owners': [{'displayName': 'nkmk on',\n",
      "             'emailAddress': 'nkmk.on@gmail.com',\n",
      "             'isAuthenticatedUser': True,\n",
      "             'kind': 'drive#user',\n",
      "             'permissionId': '15529215658844670952'}],\n",
      " 'parents': [{'id': '0AAeKIFCqYN07Uk9PVA',\n",
      "              'isRoot': True,\n",
      "              'kind': 'drive#parentReference',\n",
      "              'parentLink': 'https://www.googleapis.com/drive/v2/files/0AAeKIFCqYN07Uk9PVA',\n",
      "              'selfLink': 'https://www.googleapis.com/drive/v2/files/1urYj2HbvV6kNfYsT8A-2PsmEjdiR2nZS/parents/0AAeKIFCqYN07Uk9PVA'}],\n",
      " 'quotaBytesUsed': '32468',\n",
      " 'selfLink': 'https://www.googleapis.com/drive/v2/files/1urYj2HbvV6kNfYsT8A-2PsmEjdiR2nZS',\n",
      " 'shared': False,\n",
      " 'spaces': ['drive'],\n",
      " 'thumbnailLink': 'https://lh3.googleusercontent.com/lyCvx5zSBVXNO7CIyQ3ISrb9UvqWWuTJJKUrRE9kJ-R_hdbZE-CBUdoE9V0Yz5wOlVG26i39BAU=s220',\n",
      " 'title': 'lena.jpg',\n",
      " 'userPermission': {'etag': '\"_sqIxUq0fTLFIA17mBQDotbHWsg/d98zwIsA2bB9SfEk4Agv9C_CkuY\"',\n",
      "                    'id': 'me',\n",
      "                    'kind': 'drive#permission',\n",
      "                    'role': 'owner',\n",
      "                    'selfLink': 'https://www.googleapis.com/drive/v2/files/1urYj2HbvV6kNfYsT8A-2PsmEjdiR2nZS/permissions/me',\n",
      "                    'type': 'user'},\n",
      " 'version': '2',\n",
      " 'webContentLink': 'https://drive.google.com/uc?id=1urYj2HbvV6kNfYsT8A-2PsmEjdiR2nZS&export=download',\n",
      " 'writersCanShare': True}\n"
     ]
    }
   ],
   "source": [
    "pprint.pprint(f)"
   ]
  },
  {
   "cell_type": "code",
   "execution_count": 10,
   "metadata": {},
   "outputs": [
    {
     "name": "stdout",
     "output_type": "stream",
     "text": [
      "GoogleDriveFile({'title': 'new_file.txt', 'mimeType': 'text/plain'})\n"
     ]
    }
   ],
   "source": [
    "f_txt = drive.CreateFile({'title': 'new_file.txt'})\n",
    "f_txt.SetContentString('new text')\n",
    "print(f_txt)"
   ]
  },
  {
   "cell_type": "code",
   "execution_count": 11,
   "metadata": {},
   "outputs": [],
   "source": [
    "f_txt.Upload()"
   ]
  }
 ],
 "metadata": {
  "kernelspec": {
   "display_name": "Python 3",
   "language": "python",
   "name": "python3"
  },
  "language_info": {
   "codemirror_mode": {
    "name": "ipython",
    "version": 3
   },
   "file_extension": ".py",
   "mimetype": "text/x-python",
   "name": "python",
   "nbconvert_exporter": "python",
   "pygments_lexer": "ipython3",
   "version": "3.7.3"
  }
 },
 "nbformat": 4,
 "nbformat_minor": 2
}
