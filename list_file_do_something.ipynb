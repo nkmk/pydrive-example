{
 "cells": [
  {
   "cell_type": "code",
   "execution_count": 1,
   "metadata": {},
   "outputs": [],
   "source": [
    "import os"
   ]
  },
  {
   "cell_type": "code",
   "execution_count": 2,
   "metadata": {},
   "outputs": [],
   "source": [
    "from pydrive.auth import GoogleAuth\n",
    "from pydrive.drive import GoogleDrive\n",
    "\n",
    "gauth = GoogleAuth()\n",
    "gauth.LocalWebserverAuth()\n",
    "\n",
    "drive = GoogleDrive(gauth)"
   ]
  },
  {
   "cell_type": "code",
   "execution_count": 3,
   "metadata": {},
   "outputs": [],
   "source": [
    "file_list = drive.ListFile({'q': 'title contains \"file1\" and trashed = false'}).GetList()"
   ]
  },
  {
   "cell_type": "code",
   "execution_count": 4,
   "metadata": {},
   "outputs": [
    {
     "name": "stdout",
     "output_type": "stream",
     "text": [
      "file1   \t 1z1vv7Zd1k14JebVghq8NlVpLWmFhZybo\n",
      "file111   \t 1bfc7jlDobxuoyZeF8CDyXlN66zl84Ech\n",
      "file12   \t 1iv9UB1pi65MqfFmqYwBoz3AfZbKr2jLx\n",
      "file11   \t 15sy12U3d845pXjLaEWww4VLO9Vs7C4J9\n"
     ]
    }
   ],
   "source": [
    "for f in file_list:\n",
    "    print(f['title'], '  \\t', f['id'])"
   ]
  },
  {
   "cell_type": "code",
   "execution_count": 5,
   "metadata": {},
   "outputs": [],
   "source": [
    "dst_dir = 'dst'"
   ]
  },
  {
   "cell_type": "code",
   "execution_count": 6,
   "metadata": {},
   "outputs": [],
   "source": [
    "for f in file_list:\n",
    "    f.GetContentFile(os.path.join(dst_dir, f['title']))"
   ]
  },
  {
   "cell_type": "code",
   "execution_count": 7,
   "metadata": {},
   "outputs": [],
   "source": [
    "for f in file_list:\n",
    "    f['title'] = 'XXX_' + f['title']\n",
    "    f.Upload()"
   ]
  },
  {
   "cell_type": "code",
   "execution_count": 8,
   "metadata": {},
   "outputs": [
    {
     "name": "stdout",
     "output_type": "stream",
     "text": [
      "XXX_file1   \t 1z1vv7Zd1k14JebVghq8NlVpLWmFhZybo\n",
      "XXX_file111   \t 1bfc7jlDobxuoyZeF8CDyXlN66zl84Ech\n",
      "XXX_file12   \t 1iv9UB1pi65MqfFmqYwBoz3AfZbKr2jLx\n",
      "XXX_file11   \t 15sy12U3d845pXjLaEWww4VLO9Vs7C4J9\n"
     ]
    }
   ],
   "source": [
    "for f in file_list:\n",
    "    print(f['title'], '  \\t', f['id'])"
   ]
  },
  {
   "cell_type": "code",
   "execution_count": 9,
   "metadata": {},
   "outputs": [],
   "source": [
    "for f in file_list:\n",
    "    f['title'] = f['title'][4:]\n",
    "    f.Upload()"
   ]
  },
  {
   "cell_type": "code",
   "execution_count": 10,
   "metadata": {},
   "outputs": [
    {
     "name": "stdout",
     "output_type": "stream",
     "text": [
      "file1   \t 1z1vv7Zd1k14JebVghq8NlVpLWmFhZybo\n",
      "file111   \t 1bfc7jlDobxuoyZeF8CDyXlN66zl84Ech\n",
      "file12   \t 1iv9UB1pi65MqfFmqYwBoz3AfZbKr2jLx\n",
      "file11   \t 15sy12U3d845pXjLaEWww4VLO9Vs7C4J9\n"
     ]
    }
   ],
   "source": [
    "for f in file_list:\n",
    "    print(f['title'], '  \\t', f['id'])"
   ]
  }
 ],
 "metadata": {
  "kernelspec": {
   "display_name": "Python 3",
   "language": "python",
   "name": "python3"
  },
  "language_info": {
   "codemirror_mode": {
    "name": "ipython",
    "version": 3
   },
   "file_extension": ".py",
   "mimetype": "text/x-python",
   "name": "python",
   "nbconvert_exporter": "python",
   "pygments_lexer": "ipython3",
   "version": "3.7.3"
  }
 },
 "nbformat": 4,
 "nbformat_minor": 2
}
