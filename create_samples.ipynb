{
 "cells": [
  {
   "cell_type": "code",
   "execution_count": 1,
   "metadata": {},
   "outputs": [],
   "source": [
    "from pydrive.auth import GoogleAuth\n",
    "from pydrive.drive import GoogleDrive\n",
    "\n",
    "gauth = GoogleAuth()\n",
    "gauth.LocalWebserverAuth()\n",
    "\n",
    "drive = GoogleDrive(gauth)"
   ]
  },
  {
   "cell_type": "code",
   "execution_count": 2,
   "metadata": {},
   "outputs": [],
   "source": [
    "f_file1 = drive.CreateFile({'title': 'file1'})\n",
    "f_file1.Upload()"
   ]
  },
  {
   "cell_type": "code",
   "execution_count": 3,
   "metadata": {},
   "outputs": [],
   "source": [
    "f_file2 = drive.CreateFile({'title': 'file2'})\n",
    "f_file2.Upload()"
   ]
  },
  {
   "cell_type": "code",
   "execution_count": 4,
   "metadata": {},
   "outputs": [],
   "source": [
    "f_dir1 = drive.CreateFile({'title': 'dir1',\n",
    "                           'mimeType': 'application/vnd.google-apps.folder'})\n",
    "f_dir1.Upload()"
   ]
  },
  {
   "cell_type": "code",
   "execution_count": 5,
   "metadata": {},
   "outputs": [],
   "source": [
    "dir1_id = f_dir1['id']"
   ]
  },
  {
   "cell_type": "code",
   "execution_count": 6,
   "metadata": {},
   "outputs": [],
   "source": [
    "f_file11 = drive.CreateFile({'title': 'file11', 'parents': [{'id': dir1_id}]})\n",
    "f_file11.Upload()"
   ]
  },
  {
   "cell_type": "code",
   "execution_count": 7,
   "metadata": {},
   "outputs": [],
   "source": [
    "f_file12 = drive.CreateFile({'title': 'file12', 'parents': [{'id': dir1_id}]})\n",
    "f_file12.Upload()"
   ]
  },
  {
   "cell_type": "code",
   "execution_count": 8,
   "metadata": {},
   "outputs": [],
   "source": [
    "f_subdir1 = drive.CreateFile({'title': 'subdir1',\n",
    "                              'mimeType': 'application/vnd.google-apps.folder',\n",
    "                              'parents': [{'id': dir1_id}]})\n",
    "f_subdir1.Upload()"
   ]
  },
  {
   "cell_type": "code",
   "execution_count": 9,
   "metadata": {},
   "outputs": [],
   "source": [
    "subdir1_id = f_subdir1['id']"
   ]
  },
  {
   "cell_type": "code",
   "execution_count": 10,
   "metadata": {},
   "outputs": [],
   "source": [
    "f_file111 = drive.CreateFile({'title': 'file111', 'parents': [{'id': subdir1_id}]})\n",
    "f_file111.Upload()"
   ]
  },
  {
   "cell_type": "code",
   "execution_count": 11,
   "metadata": {},
   "outputs": [],
   "source": [
    "f_dir2 = drive.CreateFile({'title': 'dir2',\n",
    "                           'mimeType': 'application/vnd.google-apps.folder'})\n",
    "f_dir2.Upload()"
   ]
  },
  {
   "cell_type": "code",
   "execution_count": 12,
   "metadata": {},
   "outputs": [],
   "source": [
    "dir2_id = f_dir2['id']"
   ]
  },
  {
   "cell_type": "code",
   "execution_count": 13,
   "metadata": {},
   "outputs": [],
   "source": [
    "f_file21 = drive.CreateFile({'title': 'file21', 'parents': [{'id': dir2_id}]})\n",
    "f_file21.Upload()"
   ]
  }
 ],
 "metadata": {
  "kernelspec": {
   "display_name": "Python 3",
   "language": "python",
   "name": "python3"
  },
  "language_info": {
   "codemirror_mode": {
    "name": "ipython",
    "version": 3
   },
   "file_extension": ".py",
   "mimetype": "text/x-python",
   "name": "python",
   "nbconvert_exporter": "python",
   "pygments_lexer": "ipython3",
   "version": "3.7.3"
  }
 },
 "nbformat": 4,
 "nbformat_minor": 2
}
