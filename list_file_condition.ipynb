{
 "cells": [
  {
   "cell_type": "code",
   "execution_count": 1,
   "metadata": {},
   "outputs": [],
   "source": [
    "from pydrive.auth import GoogleAuth\n",
    "from pydrive.drive import GoogleDrive\n",
    "\n",
    "gauth = GoogleAuth()\n",
    "gauth.LocalWebserverAuth()\n",
    "\n",
    "drive = GoogleDrive(gauth)"
   ]
  },
  {
   "cell_type": "code",
   "execution_count": 2,
   "metadata": {},
   "outputs": [
    {
     "name": "stdout",
     "output_type": "stream",
     "text": [
      "file111   \t 1bfc7jlDobxuoyZeF8CDyXlN66zl84Ech\n",
      "file12   \t 1iv9UB1pi65MqfFmqYwBoz3AfZbKr2jLx\n",
      "file11   \t 15sy12U3d845pXjLaEWww4VLO9Vs7C4J9\n",
      "file1   \t 1z1vv7Zd1k14JebVghq8NlVpLWmFhZybo\n"
     ]
    }
   ],
   "source": [
    "for f in drive.ListFile({'q': 'title contains \"file1\"'}).GetList():\n",
    "    print(f['title'], '  \\t', f['id'])"
   ]
  },
  {
   "cell_type": "code",
   "execution_count": 3,
   "metadata": {},
   "outputs": [
    {
     "name": "stdout",
     "output_type": "stream",
     "text": [
      "file111   \t 1bfc7jlDobxuoyZeF8CDyXlN66zl84Ech\n",
      "file12   \t 1iv9UB1pi65MqfFmqYwBoz3AfZbKr2jLx\n",
      "file11   \t 15sy12U3d845pXjLaEWww4VLO9Vs7C4J9\n"
     ]
    }
   ],
   "source": [
    "for f in drive.ListFile({'q': 'title contains \"file1\" and not \"root\" in parents'}).GetList():\n",
    "    print(f['title'], '  \\t', f['id'])"
   ]
  },
  {
   "cell_type": "code",
   "execution_count": 4,
   "metadata": {},
   "outputs": [],
   "source": [
    "# 'title contains \"file1\"'\n",
    "# \"title contains 'file1'\"\n",
    "# 'title contains \\'file1\\''\n",
    "# \"title contains \\\"file1\\\"\""
   ]
  },
  {
   "cell_type": "code",
   "execution_count": 5,
   "metadata": {},
   "outputs": [
    {
     "name": "stdout",
     "output_type": "stream",
     "text": [
      "dir2    \t 1UaNdnbqCKe2ALtZp6hirvCgZl7OVpTI9\n",
      "subdir1    \t 1CpPdnFTdN6DWPz7VBM1pV-RMZfcbvzck\n",
      "dir1    \t 1DX1YFUdbSAeIvuXVLoosAKY2eX27Q4Y1\n"
     ]
    }
   ],
   "source": [
    "for f in drive.ListFile({'q': 'mimeType = \"application/vnd.google-apps.folder\"'}).GetList():\n",
    "    print(f['title'], '   \\t', f['id'])"
   ]
  },
  {
   "cell_type": "code",
   "execution_count": 6,
   "metadata": {},
   "outputs": [
    {
     "name": "stdout",
     "output_type": "stream",
     "text": [
      "file21   \t 1o-pFt-9Hrj_z3FmlsQfa8duo_ZfuEh5S\n",
      "file111   \t 1bfc7jlDobxuoyZeF8CDyXlN66zl84Ech\n",
      "file12   \t 1iv9UB1pi65MqfFmqYwBoz3AfZbKr2jLx\n",
      "file11   \t 15sy12U3d845pXjLaEWww4VLO9Vs7C4J9\n",
      "file2   \t 1HaHLB19oU_he6LI_6mkQsPr9uH_JK_oz\n",
      "file1   \t 1z1vv7Zd1k14JebVghq8NlVpLWmFhZybo\n"
     ]
    }
   ],
   "source": [
    "for f in drive.ListFile({'q': 'mimeType != \"application/vnd.google-apps.folder\"'}).GetList():\n",
    "    print(f['title'], '  \\t', f['id'])"
   ]
  },
  {
   "cell_type": "code",
   "execution_count": 7,
   "metadata": {},
   "outputs": [
    {
     "name": "stdout",
     "output_type": "stream",
     "text": [
      "file1   \t 1z1vv7Zd1k14JebVghq8NlVpLWmFhZybo\n"
     ]
    }
   ],
   "source": [
    "for f in drive.ListFile({'q': 'title = \"file1\"'}).GetList():\n",
    "    print(f['title'], '  \\t', f['id'])"
   ]
  },
  {
   "cell_type": "code",
   "execution_count": 8,
   "metadata": {},
   "outputs": [
    {
     "name": "stdout",
     "output_type": "stream",
     "text": [
      "file111   \t 1bfc7jlDobxuoyZeF8CDyXlN66zl84Ech\n",
      "file12   \t 1iv9UB1pi65MqfFmqYwBoz3AfZbKr2jLx\n",
      "file11   \t 15sy12U3d845pXjLaEWww4VLO9Vs7C4J9\n",
      "file1   \t 1z1vv7Zd1k14JebVghq8NlVpLWmFhZybo\n"
     ]
    }
   ],
   "source": [
    "for f in drive.ListFile({'q': 'title contains \"file1\"'}).GetList():\n",
    "    print(f['title'], '  \\t', f['id'])"
   ]
  },
  {
   "cell_type": "code",
   "execution_count": 9,
   "metadata": {},
   "outputs": [],
   "source": [
    "for f in drive.ListFile({'q': 'title contains \"11\"'}).GetList():\n",
    "    print(f['title'], '  \\t', f['id'])"
   ]
  },
  {
   "cell_type": "code",
   "execution_count": 10,
   "metadata": {},
   "outputs": [],
   "source": [
    "dir1_id = drive.ListFile({'q': 'title = \"dir1\"'}).GetList()[0]['id']"
   ]
  },
  {
   "cell_type": "code",
   "execution_count": 11,
   "metadata": {},
   "outputs": [
    {
     "name": "stdout",
     "output_type": "stream",
     "text": [
      "subdir1    \t 1CpPdnFTdN6DWPz7VBM1pV-RMZfcbvzck\n",
      "file12    \t 1iv9UB1pi65MqfFmqYwBoz3AfZbKr2jLx\n",
      "file11    \t 15sy12U3d845pXjLaEWww4VLO9Vs7C4J9\n"
     ]
    }
   ],
   "source": [
    "for f in drive.ListFile({'q': '\"{}\" in parents'.format(dir1_id)}).GetList():\n",
    "    print(f['title'], '   \\t', f['id'])"
   ]
  },
  {
   "cell_type": "code",
   "execution_count": 12,
   "metadata": {},
   "outputs": [
    {
     "name": "stdout",
     "output_type": "stream",
     "text": [
      "dir2    \t 1UaNdnbqCKe2ALtZp6hirvCgZl7OVpTI9\n",
      "dir1    \t 1DX1YFUdbSAeIvuXVLoosAKY2eX27Q4Y1\n",
      "file2    \t 1HaHLB19oU_he6LI_6mkQsPr9uH_JK_oz\n",
      "file1    \t 1z1vv7Zd1k14JebVghq8NlVpLWmFhZybo\n"
     ]
    }
   ],
   "source": [
    "for f in drive.ListFile({'q': '\"root\" in parents'}).GetList():\n",
    "    print(f['title'], '   \\t', f['id'])"
   ]
  },
  {
   "cell_type": "code",
   "execution_count": 13,
   "metadata": {},
   "outputs": [],
   "source": [
    "file1_id = drive.ListFile({'q': 'title = \"file1\"'}).GetList()[0]['id']\n",
    "file1 = drive.CreateFile({'id': file1_id})\n",
    "file1.Trash()"
   ]
  },
  {
   "cell_type": "code",
   "execution_count": 14,
   "metadata": {},
   "outputs": [
    {
     "name": "stdout",
     "output_type": "stream",
     "text": [
      "file1    \t 1z1vv7Zd1k14JebVghq8NlVpLWmFhZybo\n",
      "dir2    \t 1UaNdnbqCKe2ALtZp6hirvCgZl7OVpTI9\n",
      "dir1    \t 1DX1YFUdbSAeIvuXVLoosAKY2eX27Q4Y1\n",
      "file2    \t 1HaHLB19oU_he6LI_6mkQsPr9uH_JK_oz\n"
     ]
    }
   ],
   "source": [
    "for f in drive.ListFile({'q': '\"root\" in parents'}).GetList():\n",
    "    print(f['title'], '   \\t', f['id'])"
   ]
  },
  {
   "cell_type": "code",
   "execution_count": 15,
   "metadata": {},
   "outputs": [
    {
     "name": "stdout",
     "output_type": "stream",
     "text": [
      "dir2    \t 1UaNdnbqCKe2ALtZp6hirvCgZl7OVpTI9\n",
      "dir1    \t 1DX1YFUdbSAeIvuXVLoosAKY2eX27Q4Y1\n",
      "file2    \t 1HaHLB19oU_he6LI_6mkQsPr9uH_JK_oz\n"
     ]
    }
   ],
   "source": [
    "for f in drive.ListFile({'q': '\"root\" in parents and trashed = false'}).GetList():\n",
    "    print(f['title'], '   \\t', f['id'])"
   ]
  },
  {
   "cell_type": "code",
   "execution_count": 16,
   "metadata": {},
   "outputs": [],
   "source": [
    "file1.UnTrash()"
   ]
  }
 ],
 "metadata": {
  "kernelspec": {
   "display_name": "Python 3",
   "language": "python",
   "name": "python3"
  },
  "language_info": {
   "codemirror_mode": {
    "name": "ipython",
    "version": 3
   },
   "file_extension": ".py",
   "mimetype": "text/x-python",
   "name": "python",
   "nbconvert_exporter": "python",
   "pygments_lexer": "ipython3",
   "version": "3.7.3"
  }
 },
 "nbformat": 4,
 "nbformat_minor": 2
}
