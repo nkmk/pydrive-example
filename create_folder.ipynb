{
 "cells": [
  {
   "cell_type": "code",
   "execution_count": 1,
   "metadata": {},
   "outputs": [],
   "source": [
    "import pprint"
   ]
  },
  {
   "cell_type": "code",
   "execution_count": 2,
   "metadata": {},
   "outputs": [],
   "source": [
    "from pydrive.auth import GoogleAuth\n",
    "from pydrive.drive import GoogleDrive\n",
    "\n",
    "gauth = GoogleAuth()\n",
    "gauth.LocalWebserverAuth()\n",
    "\n",
    "drive = GoogleDrive(gauth)"
   ]
  },
  {
   "cell_type": "code",
   "execution_count": 3,
   "metadata": {},
   "outputs": [
    {
     "name": "stdout",
     "output_type": "stream",
     "text": [
      "GoogleDriveFile({'title': 'new_folder', 'mimeType': 'application/vnd.google-apps.folder'})\n"
     ]
    }
   ],
   "source": [
    "f_folder = drive.CreateFile({'title': 'new_folder',\n",
    "                             'mimeType': 'application/vnd.google-apps.folder'})\n",
    "print(f_folder)"
   ]
  },
  {
   "cell_type": "code",
   "execution_count": 4,
   "metadata": {},
   "outputs": [],
   "source": [
    "f_folder.Upload()"
   ]
  },
  {
   "cell_type": "code",
   "execution_count": 5,
   "metadata": {},
   "outputs": [
    {
     "name": "stdout",
     "output_type": "stream",
     "text": [
      "{'alternateLink': 'https://drive.google.com/drive/folders/1dQT4GYkl2zHDP_7yXYcKuomX6XggF9Cz',\n",
      " 'appDataContents': False,\n",
      " 'capabilities': {'canCopy': False, 'canEdit': True},\n",
      " 'copyRequiresWriterPermission': False,\n",
      " 'copyable': False,\n",
      " 'createdDate': '2019-07-16T14:04:39.276Z',\n",
      " 'editable': True,\n",
      " 'embedLink': 'https://drive.google.com/embeddedfolderview?id=1dQT4GYkl2zHDP_7yXYcKuomX6XggF9Cz',\n",
      " 'etag': '\"_sqIxUq0fTLFIA17mBQDotbHWsg/MTU2MzI4NTg3OTI3Ng\"',\n",
      " 'explicitlyTrashed': False,\n",
      " 'iconLink': 'https://drive-thirdparty.googleusercontent.com/16/type/application/vnd.google-apps.folder+48',\n",
      " 'id': '1dQT4GYkl2zHDP_7yXYcKuomX6XggF9Cz',\n",
      " 'kind': 'drive#file',\n",
      " 'labels': {'hidden': False,\n",
      "            'restricted': False,\n",
      "            'starred': False,\n",
      "            'trashed': False,\n",
      "            'viewed': True},\n",
      " 'lastModifyingUser': {'displayName': 'nkmk on',\n",
      "                       'emailAddress': 'nkmk.on@gmail.com',\n",
      "                       'isAuthenticatedUser': True,\n",
      "                       'kind': 'drive#user',\n",
      "                       'permissionId': '15529215658844670952'},\n",
      " 'lastModifyingUserName': 'nkmk on',\n",
      " 'lastViewedByMeDate': '2019-07-16T14:04:39.276Z',\n",
      " 'markedViewedByMeDate': '1970-01-01T00:00:00.000Z',\n",
      " 'mimeType': 'application/vnd.google-apps.folder',\n",
      " 'modifiedByMeDate': '2019-07-16T14:04:39.276Z',\n",
      " 'modifiedDate': '2019-07-16T14:04:39.276Z',\n",
      " 'ownerNames': ['nkmk on'],\n",
      " 'owners': [{'displayName': 'nkmk on',\n",
      "             'emailAddress': 'nkmk.on@gmail.com',\n",
      "             'isAuthenticatedUser': True,\n",
      "             'kind': 'drive#user',\n",
      "             'permissionId': '15529215658844670952'}],\n",
      " 'parents': [{'id': '0AAeKIFCqYN07Uk9PVA',\n",
      "              'isRoot': True,\n",
      "              'kind': 'drive#parentReference',\n",
      "              'parentLink': 'https://www.googleapis.com/drive/v2/files/0AAeKIFCqYN07Uk9PVA',\n",
      "              'selfLink': 'https://www.googleapis.com/drive/v2/files/1dQT4GYkl2zHDP_7yXYcKuomX6XggF9Cz/parents/0AAeKIFCqYN07Uk9PVA'}],\n",
      " 'quotaBytesUsed': '0',\n",
      " 'selfLink': 'https://www.googleapis.com/drive/v2/files/1dQT4GYkl2zHDP_7yXYcKuomX6XggF9Cz',\n",
      " 'shared': False,\n",
      " 'spaces': ['drive'],\n",
      " 'title': 'new_folder',\n",
      " 'userPermission': {'etag': '\"_sqIxUq0fTLFIA17mBQDotbHWsg/38oVvgHkBS5xDYba_gRDJx2lqsQ\"',\n",
      "                    'id': 'me',\n",
      "                    'kind': 'drive#permission',\n",
      "                    'role': 'owner',\n",
      "                    'selfLink': 'https://www.googleapis.com/drive/v2/files/1dQT4GYkl2zHDP_7yXYcKuomX6XggF9Cz/permissions/me',\n",
      "                    'type': 'user'},\n",
      " 'version': '1',\n",
      " 'writersCanShare': True}\n"
     ]
    }
   ],
   "source": [
    "pprint.pprint(f_folder)"
   ]
  },
  {
   "cell_type": "code",
   "execution_count": 6,
   "metadata": {},
   "outputs": [],
   "source": [
    "f_folder = drive.CreateFile()"
   ]
  },
  {
   "cell_type": "code",
   "execution_count": 7,
   "metadata": {},
   "outputs": [],
   "source": [
    "# f_folder.SetContentFile('src')\n",
    "# IsADirectoryError: [Errno 21] Is a directory: 'src'"
   ]
  }
 ],
 "metadata": {
  "kernelspec": {
   "display_name": "Python 3",
   "language": "python",
   "name": "python3"
  },
  "language_info": {
   "codemirror_mode": {
    "name": "ipython",
    "version": 3
   },
   "file_extension": ".py",
   "mimetype": "text/x-python",
   "name": "python",
   "nbconvert_exporter": "python",
   "pygments_lexer": "ipython3",
   "version": "3.7.3"
  }
 },
 "nbformat": 4,
 "nbformat_minor": 2
}
