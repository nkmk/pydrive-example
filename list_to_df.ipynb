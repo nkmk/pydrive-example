{
 "cells": [
  {
   "cell_type": "code",
   "execution_count": 1,
   "metadata": {},
   "outputs": [],
   "source": [
    "import pprint\n",
    "import pandas as pd"
   ]
  },
  {
   "cell_type": "code",
   "execution_count": 2,
   "metadata": {},
   "outputs": [],
   "source": [
    "from pydrive.auth import GoogleAuth\n",
    "from pydrive.drive import GoogleDrive\n",
    "\n",
    "gauth = GoogleAuth()\n",
    "gauth.LocalWebserverAuth()\n",
    "\n",
    "drive = GoogleDrive(gauth)"
   ]
  },
  {
   "cell_type": "code",
   "execution_count": 3,
   "metadata": {},
   "outputs": [],
   "source": [
    "l = [[f['title'], f['id'], f['parents'][0]['id'], f['mimeType'], f.get('fileSize')]\n",
    "     for f in drive.ListFile().GetList()\n",
    "     if len(f['parents'])]"
   ]
  },
  {
   "cell_type": "code",
   "execution_count": 4,
   "metadata": {},
   "outputs": [
    {
     "name": "stdout",
     "output_type": "stream",
     "text": [
      "[['file11', '15sy12U3d845pXjLaEWww4VLO9Vs7C4J9', '1DX1YFUdbSAeIvuXVLoosAKY2eX27Q4Y1', 'application/octet-stream', '0'],\n",
      " ['file12', '1iv9UB1pi65MqfFmqYwBoz3AfZbKr2jLx', '1DX1YFUdbSAeIvuXVLoosAKY2eX27Q4Y1', 'application/octet-stream', '0'],\n",
      " ['file111', '1bfc7jlDobxuoyZeF8CDyXlN66zl84Ech', '1CpPdnFTdN6DWPz7VBM1pV-RMZfcbvzck', 'application/octet-stream', '0'],\n",
      " ['file1', '1z1vv7Zd1k14JebVghq8NlVpLWmFhZybo', '0AAeKIFCqYN07Uk9PVA', 'application/octet-stream', '0'],\n",
      " ['file21', '1o-pFt-9Hrj_z3FmlsQfa8duo_ZfuEh5S', '1UaNdnbqCKe2ALtZp6hirvCgZl7OVpTI9', 'application/octet-stream', '0'],\n",
      " ['dir2', '1UaNdnbqCKe2ALtZp6hirvCgZl7OVpTI9', '0AAeKIFCqYN07Uk9PVA', 'application/vnd.google-apps.folder', None],\n",
      " ['subdir1', '1CpPdnFTdN6DWPz7VBM1pV-RMZfcbvzck', '1DX1YFUdbSAeIvuXVLoosAKY2eX27Q4Y1', 'application/vnd.google-apps.folder', None],\n",
      " ['dir1', '1DX1YFUdbSAeIvuXVLoosAKY2eX27Q4Y1', '0AAeKIFCqYN07Uk9PVA', 'application/vnd.google-apps.folder', None],\n",
      " ['file2', '1HaHLB19oU_he6LI_6mkQsPr9uH_JK_oz', '0AAeKIFCqYN07Uk9PVA', 'application/octet-stream', '0']]\n"
     ]
    }
   ],
   "source": [
    "pprint.pprint(l, width=200)"
   ]
  },
  {
   "cell_type": "code",
   "execution_count": 5,
   "metadata": {},
   "outputs": [
    {
     "name": "stdout",
     "output_type": "stream",
     "text": [
      "     title                                 id  \\\n",
      "0   file11  15sy12U3d845pXjLaEWww4VLO9Vs7C4J9   \n",
      "1   file12  1iv9UB1pi65MqfFmqYwBoz3AfZbKr2jLx   \n",
      "2  file111  1bfc7jlDobxuoyZeF8CDyXlN66zl84Ech   \n",
      "3    file1  1z1vv7Zd1k14JebVghq8NlVpLWmFhZybo   \n",
      "4   file21  1o-pFt-9Hrj_z3FmlsQfa8duo_ZfuEh5S   \n",
      "5     dir2  1UaNdnbqCKe2ALtZp6hirvCgZl7OVpTI9   \n",
      "6  subdir1  1CpPdnFTdN6DWPz7VBM1pV-RMZfcbvzck   \n",
      "7     dir1  1DX1YFUdbSAeIvuXVLoosAKY2eX27Q4Y1   \n",
      "8    file2  1HaHLB19oU_he6LI_6mkQsPr9uH_JK_oz   \n",
      "\n",
      "                          parents_id                            mimeType  \\\n",
      "0  1DX1YFUdbSAeIvuXVLoosAKY2eX27Q4Y1            application/octet-stream   \n",
      "1  1DX1YFUdbSAeIvuXVLoosAKY2eX27Q4Y1            application/octet-stream   \n",
      "2  1CpPdnFTdN6DWPz7VBM1pV-RMZfcbvzck            application/octet-stream   \n",
      "3                0AAeKIFCqYN07Uk9PVA            application/octet-stream   \n",
      "4  1UaNdnbqCKe2ALtZp6hirvCgZl7OVpTI9            application/octet-stream   \n",
      "5                0AAeKIFCqYN07Uk9PVA  application/vnd.google-apps.folder   \n",
      "6  1DX1YFUdbSAeIvuXVLoosAKY2eX27Q4Y1  application/vnd.google-apps.folder   \n",
      "7                0AAeKIFCqYN07Uk9PVA  application/vnd.google-apps.folder   \n",
      "8                0AAeKIFCqYN07Uk9PVA            application/octet-stream   \n",
      "\n",
      "  fileSize  \n",
      "0        0  \n",
      "1        0  \n",
      "2        0  \n",
      "3        0  \n",
      "4        0  \n",
      "5     None  \n",
      "6     None  \n",
      "7     None  \n",
      "8        0  \n"
     ]
    }
   ],
   "source": [
    "df = pd.DataFrame(l, columns=['title', 'id', 'parents_id', 'mimeType', 'fileSize'])\n",
    "print(df)"
   ]
  },
  {
   "cell_type": "code",
   "execution_count": 6,
   "metadata": {},
   "outputs": [],
   "source": [
    "df.to_csv('dst/use_pandas.csv', index=False)"
   ]
  },
  {
   "cell_type": "code",
   "execution_count": 7,
   "metadata": {},
   "outputs": [],
   "source": [
    "df_folder = df.query('mimeType == \"application/vnd.google-apps.folder\"')"
   ]
  },
  {
   "cell_type": "code",
   "execution_count": 8,
   "metadata": {},
   "outputs": [],
   "source": [
    "d_id_title = dict(zip(df_folder['id'], df_folder['title']))\n",
    "d_id_parents_id = dict(zip(df_folder['id'], df_folder['parents_id']))"
   ]
  },
  {
   "cell_type": "code",
   "execution_count": 9,
   "metadata": {},
   "outputs": [
    {
     "name": "stdout",
     "output_type": "stream",
     "text": [
      "{'1CpPdnFTdN6DWPz7VBM1pV-RMZfcbvzck': 'subdir1',\n",
      " '1DX1YFUdbSAeIvuXVLoosAKY2eX27Q4Y1': 'dir1',\n",
      " '1UaNdnbqCKe2ALtZp6hirvCgZl7OVpTI9': 'dir2'}\n"
     ]
    }
   ],
   "source": [
    "pprint.pprint(d_id_title)"
   ]
  },
  {
   "cell_type": "code",
   "execution_count": 10,
   "metadata": {},
   "outputs": [
    {
     "name": "stdout",
     "output_type": "stream",
     "text": [
      "{'1CpPdnFTdN6DWPz7VBM1pV-RMZfcbvzck': '1DX1YFUdbSAeIvuXVLoosAKY2eX27Q4Y1',\n",
      " '1DX1YFUdbSAeIvuXVLoosAKY2eX27Q4Y1': '0AAeKIFCqYN07Uk9PVA',\n",
      " '1UaNdnbqCKe2ALtZp6hirvCgZl7OVpTI9': '0AAeKIFCqYN07Uk9PVA'}\n"
     ]
    }
   ],
   "source": [
    "pprint.pprint(d_id_parents_id)"
   ]
  },
  {
   "cell_type": "code",
   "execution_count": 11,
   "metadata": {},
   "outputs": [],
   "source": [
    "root_id = drive.ListFile({'q': '\"root\" in parents'}).GetList()[0]['parents'][0]['id']"
   ]
  },
  {
   "cell_type": "code",
   "execution_count": 12,
   "metadata": {},
   "outputs": [],
   "source": [
    "def get_parents_path(current_id, sep='/'):\n",
    "    l = []\n",
    "    while current_id != root_id:\n",
    "        if current_id not in d_id_title.keys():\n",
    "            return None\n",
    "        l.append(d_id_title[current_id])\n",
    "        current_id = d_id_parents_id[current_id]\n",
    "    return sep.join(reversed(l))"
   ]
  },
  {
   "cell_type": "code",
   "execution_count": 13,
   "metadata": {},
   "outputs": [],
   "source": [
    "d_id_path = {i: get_parents_path(i) for i in df_folder['id']}\n",
    "d_id_path[root_id] = ''"
   ]
  },
  {
   "cell_type": "code",
   "execution_count": 14,
   "metadata": {},
   "outputs": [
    {
     "name": "stdout",
     "output_type": "stream",
     "text": [
      "{'0AAeKIFCqYN07Uk9PVA': '',\n",
      " '1CpPdnFTdN6DWPz7VBM1pV-RMZfcbvzck': 'dir1/subdir1',\n",
      " '1DX1YFUdbSAeIvuXVLoosAKY2eX27Q4Y1': 'dir1',\n",
      " '1UaNdnbqCKe2ALtZp6hirvCgZl7OVpTI9': 'dir2'}\n"
     ]
    }
   ],
   "source": [
    "pprint.pprint(d_id_path)"
   ]
  },
  {
   "cell_type": "code",
   "execution_count": 15,
   "metadata": {},
   "outputs": [
    {
     "name": "stdout",
     "output_type": "stream",
     "text": [
      "     title  parents_path\n",
      "0    file1              \n",
      "1     dir2              \n",
      "2     dir1              \n",
      "3    file2              \n",
      "4   file11          dir1\n",
      "5   file12          dir1\n",
      "6  subdir1          dir1\n",
      "7  file111  dir1/subdir1\n",
      "8   file21          dir2\n"
     ]
    }
   ],
   "source": [
    "df['parents_path'] = df['parents_id'].map(d_id_path)\n",
    "df_result = df.sort_values('parents_path').reset_index(drop=True)\n",
    "print(df_result[['title', 'parents_path']])"
   ]
  }
 ],
 "metadata": {
  "kernelspec": {
   "display_name": "Python 3",
   "language": "python",
   "name": "python3"
  },
  "language_info": {
   "codemirror_mode": {
    "name": "ipython",
    "version": 3
   },
   "file_extension": ".py",
   "mimetype": "text/x-python",
   "name": "python",
   "nbconvert_exporter": "python",
   "pygments_lexer": "ipython3",
   "version": "3.7.3"
  }
 },
 "nbformat": 4,
 "nbformat_minor": 2
}
