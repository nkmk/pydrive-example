{
 "cells": [
  {
   "cell_type": "code",
   "execution_count": 1,
   "metadata": {},
   "outputs": [],
   "source": [
    "import csv\n",
    "import pprint"
   ]
  },
  {
   "cell_type": "code",
   "execution_count": 2,
   "metadata": {},
   "outputs": [],
   "source": [
    "from pydrive.auth import GoogleAuth\n",
    "from pydrive.drive import GoogleDrive\n",
    "\n",
    "gauth = GoogleAuth()\n",
    "gauth.LocalWebserverAuth()\n",
    "\n",
    "drive = GoogleDrive(gauth)"
   ]
  },
  {
   "cell_type": "code",
   "execution_count": 3,
   "metadata": {},
   "outputs": [
    {
     "name": "stdout",
     "output_type": "stream",
     "text": [
      "[['file11', '15sy12U3d845pXjLaEWww4VLO9Vs7C4J9'],\n",
      " ['file12', '1iv9UB1pi65MqfFmqYwBoz3AfZbKr2jLx'],\n",
      " ['file111', '1bfc7jlDobxuoyZeF8CDyXlN66zl84Ech'],\n",
      " ['file1', '1z1vv7Zd1k14JebVghq8NlVpLWmFhZybo'],\n",
      " ['file21', '1o-pFt-9Hrj_z3FmlsQfa8duo_ZfuEh5S'],\n",
      " ['dir2', '1UaNdnbqCKe2ALtZp6hirvCgZl7OVpTI9'],\n",
      " ['subdir1', '1CpPdnFTdN6DWPz7VBM1pV-RMZfcbvzck'],\n",
      " ['dir1', '1DX1YFUdbSAeIvuXVLoosAKY2eX27Q4Y1'],\n",
      " ['file2', '1HaHLB19oU_he6LI_6mkQsPr9uH_JK_oz']]\n"
     ]
    }
   ],
   "source": [
    "l = [[f['title'], f['id']] for f in drive.ListFile().GetList()]\n",
    "pprint.pprint(l)"
   ]
  },
  {
   "cell_type": "code",
   "execution_count": 4,
   "metadata": {},
   "outputs": [],
   "source": [
    "l.insert(0, ['title', 'id'])"
   ]
  },
  {
   "cell_type": "code",
   "execution_count": 5,
   "metadata": {},
   "outputs": [],
   "source": [
    "with open('dst/use_csv.csv', 'w') as f:\n",
    "    writer = csv.writer(f)\n",
    "    writer.writerows(l)"
   ]
  }
 ],
 "metadata": {
  "kernelspec": {
   "display_name": "Python 3",
   "language": "python",
   "name": "python3"
  },
  "language_info": {
   "codemirror_mode": {
    "name": "ipython",
    "version": 3
   },
   "file_extension": ".py",
   "mimetype": "text/x-python",
   "name": "python",
   "nbconvert_exporter": "python",
   "pygments_lexer": "ipython3",
   "version": "3.7.3"
  }
 },
 "nbformat": 4,
 "nbformat_minor": 2
}
