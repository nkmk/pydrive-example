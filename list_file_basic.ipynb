{
 "cells": [
  {
   "cell_type": "code",
   "execution_count": 1,
   "metadata": {},
   "outputs": [],
   "source": [
    "from pydrive.auth import GoogleAuth\n",
    "from pydrive.drive import GoogleDrive\n",
    "\n",
    "gauth = GoogleAuth()\n",
    "gauth.LocalWebserverAuth()\n",
    "\n",
    "drive = GoogleDrive(gauth)"
   ]
  },
  {
   "cell_type": "code",
   "execution_count": 2,
   "metadata": {},
   "outputs": [],
   "source": [
    "file_list = drive.ListFile().GetList()"
   ]
  },
  {
   "cell_type": "code",
   "execution_count": 3,
   "metadata": {},
   "outputs": [
    {
     "name": "stdout",
     "output_type": "stream",
     "text": [
      "<class 'list'>\n"
     ]
    }
   ],
   "source": [
    "print(type(file_list))"
   ]
  },
  {
   "cell_type": "code",
   "execution_count": 4,
   "metadata": {},
   "outputs": [
    {
     "name": "stdout",
     "output_type": "stream",
     "text": [
      "9\n"
     ]
    }
   ],
   "source": [
    "print(len(file_list))"
   ]
  },
  {
   "cell_type": "code",
   "execution_count": 5,
   "metadata": {},
   "outputs": [
    {
     "name": "stdout",
     "output_type": "stream",
     "text": [
      "<class 'pydrive.files.GoogleDriveFile'>\n"
     ]
    }
   ],
   "source": [
    "print(type(file_list[0]))"
   ]
  },
  {
   "cell_type": "code",
   "execution_count": 6,
   "metadata": {},
   "outputs": [
    {
     "name": "stdout",
     "output_type": "stream",
     "text": [
      "file21    \t 1hJ7WQDiZyefLCQsDBE8J5-Nz847Vp670\n",
      "dir2    \t 1wmWf1fhJTgi3X1Y07t2T8KYm4GtYEgxP\n",
      "file111    \t 1789K-xv4ereCSOKrDKiAQI5bBypjqtIB\n",
      "subdir1    \t 1k154tW38rbXxj88fjV8IZVkgB3EZ7g2M\n",
      "file12    \t 1QRndXjXG9p2MEnVuotGd-eCNE2vNpkfp\n",
      "file11    \t 1nCotx1q3DEaRWQOqbPqbPS1rGMWXRt8q\n",
      "dir1    \t 1qQEUlPaIiDR_WI3hNf25rXUCHrlZIK_y\n",
      "file2    \t 1ewv3ht8J2T3oMFmBgpqeS8zWHyHJsEwg\n",
      "file1    \t 1WY5-WfWxj-ovefoE1dzWEfzgt8wtfbwY\n"
     ]
    }
   ],
   "source": [
    "for f in file_list:\n",
    "    print(f['title'], '   \\t', f['id'])"
   ]
  },
  {
   "cell_type": "code",
   "execution_count": 7,
   "metadata": {},
   "outputs": [
    {
     "name": "stdout",
     "output_type": "stream",
     "text": [
      "dir1    \t 1qQEUlPaIiDR_WI3hNf25rXUCHrlZIK_y\n",
      "dir2    \t 1wmWf1fhJTgi3X1Y07t2T8KYm4GtYEgxP\n",
      "file1    \t 1WY5-WfWxj-ovefoE1dzWEfzgt8wtfbwY\n",
      "file11    \t 1nCotx1q3DEaRWQOqbPqbPS1rGMWXRt8q\n",
      "file111    \t 1789K-xv4ereCSOKrDKiAQI5bBypjqtIB\n",
      "file12    \t 1QRndXjXG9p2MEnVuotGd-eCNE2vNpkfp\n",
      "file2    \t 1ewv3ht8J2T3oMFmBgpqeS8zWHyHJsEwg\n",
      "file21    \t 1hJ7WQDiZyefLCQsDBE8J5-Nz847Vp670\n",
      "subdir1    \t 1k154tW38rbXxj88fjV8IZVkgB3EZ7g2M\n"
     ]
    }
   ],
   "source": [
    "for f in drive.ListFile({'orderBy': 'title'}).GetList():\n",
    "    print(f['title'], '   \\t', f['id'])"
   ]
  },
  {
   "cell_type": "code",
   "execution_count": 8,
   "metadata": {},
   "outputs": [
    {
     "name": "stdout",
     "output_type": "stream",
     "text": [
      "subdir1    \t 1k154tW38rbXxj88fjV8IZVkgB3EZ7g2M\n",
      "file21    \t 1hJ7WQDiZyefLCQsDBE8J5-Nz847Vp670\n",
      "file2    \t 1ewv3ht8J2T3oMFmBgpqeS8zWHyHJsEwg\n",
      "file12    \t 1QRndXjXG9p2MEnVuotGd-eCNE2vNpkfp\n",
      "file111    \t 1789K-xv4ereCSOKrDKiAQI5bBypjqtIB\n",
      "file11    \t 1nCotx1q3DEaRWQOqbPqbPS1rGMWXRt8q\n",
      "file1    \t 1WY5-WfWxj-ovefoE1dzWEfzgt8wtfbwY\n",
      "dir2    \t 1wmWf1fhJTgi3X1Y07t2T8KYm4GtYEgxP\n",
      "dir1    \t 1qQEUlPaIiDR_WI3hNf25rXUCHrlZIK_y\n"
     ]
    }
   ],
   "source": [
    "for f in drive.ListFile({'orderBy': 'title desc'}).GetList():\n",
    "    print(f['title'], '   \\t', f['id'])"
   ]
  },
  {
   "cell_type": "code",
   "execution_count": 9,
   "metadata": {},
   "outputs": [
    {
     "name": "stdout",
     "output_type": "stream",
     "text": [
      "===== page 0\n",
      "file21    \t 1hJ7WQDiZyefLCQsDBE8J5-Nz847Vp670\n",
      "dir2    \t 1wmWf1fhJTgi3X1Y07t2T8KYm4GtYEgxP\n",
      "file111    \t 1789K-xv4ereCSOKrDKiAQI5bBypjqtIB\n",
      "===== page 1\n",
      "subdir1    \t 1k154tW38rbXxj88fjV8IZVkgB3EZ7g2M\n",
      "file12    \t 1QRndXjXG9p2MEnVuotGd-eCNE2vNpkfp\n",
      "file11    \t 1nCotx1q3DEaRWQOqbPqbPS1rGMWXRt8q\n",
      "===== page 2\n",
      "dir1    \t 1qQEUlPaIiDR_WI3hNf25rXUCHrlZIK_y\n",
      "file2    \t 1ewv3ht8J2T3oMFmBgpqeS8zWHyHJsEwg\n",
      "file1    \t 1WY5-WfWxj-ovefoE1dzWEfzgt8wtfbwY\n"
     ]
    }
   ],
   "source": [
    "for i, f_list in enumerate(drive.ListFile({'maxResults': 3})):\n",
    "    print('=====', 'page', i)\n",
    "    for f in f_list:\n",
    "        print(f['title'], '   \\t', f['id'])"
   ]
  },
  {
   "cell_type": "code",
   "execution_count": 10,
   "metadata": {},
   "outputs": [
    {
     "name": "stdout",
     "output_type": "stream",
     "text": [
      "file21    \t 1hJ7WQDiZyefLCQsDBE8J5-Nz847Vp670\n",
      "dir2    \t 1wmWf1fhJTgi3X1Y07t2T8KYm4GtYEgxP\n",
      "file111    \t 1789K-xv4ereCSOKrDKiAQI5bBypjqtIB\n",
      "subdir1    \t 1k154tW38rbXxj88fjV8IZVkgB3EZ7g2M\n",
      "file12    \t 1QRndXjXG9p2MEnVuotGd-eCNE2vNpkfp\n",
      "file11    \t 1nCotx1q3DEaRWQOqbPqbPS1rGMWXRt8q\n",
      "dir1    \t 1qQEUlPaIiDR_WI3hNf25rXUCHrlZIK_y\n",
      "file2    \t 1ewv3ht8J2T3oMFmBgpqeS8zWHyHJsEwg\n",
      "file1    \t 1WY5-WfWxj-ovefoE1dzWEfzgt8wtfbwY\n"
     ]
    }
   ],
   "source": [
    "for f in drive.ListFile().GetList():\n",
    "    print(f['title'], '   \\t', f['id'])"
   ]
  }
 ],
 "metadata": {
  "kernelspec": {
   "display_name": "Python 3",
   "language": "python",
   "name": "python3"
  },
  "language_info": {
   "codemirror_mode": {
    "name": "ipython",
    "version": 3
   },
   "file_extension": ".py",
   "mimetype": "text/x-python",
   "name": "python",
   "nbconvert_exporter": "python",
   "pygments_lexer": "ipython3",
   "version": "3.7.3"
  }
 },
 "nbformat": 4,
 "nbformat_minor": 2
}
